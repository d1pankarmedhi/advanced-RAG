{
 "cells": [
  {
   "cell_type": "code",
   "execution_count": 20,
   "metadata": {},
   "outputs": [],
   "source": [
    "import openai\n",
    "from llama_index.llms import OpenAI\n",
    "llm = OpenAI(model=\"gpt-3.5-turbo\", temperature=0.1)"
   ]
  },
  {
   "cell_type": "code",
   "execution_count": 3,
   "metadata": {},
   "outputs": [],
   "source": [
    "import llama_index\n",
    "from llama_index.vector_stores import ElasticsearchStore"
   ]
  },
  {
   "cell_type": "code",
   "execution_count": null,
   "metadata": {},
   "outputs": [],
   "source": [
    "# create documents\n",
    "from llama_index import VectorStoreIndex, SimpleDirectoryReader, Document\n",
    "reader = SimpleDirectoryReader(input_dir=\"../data/\")\n",
    "docs = reader.load_data()"
   ]
  },
  {
   "cell_type": "code",
   "execution_count": 19,
   "metadata": {},
   "outputs": [],
   "source": [
    "document = Document(text=\"\\n\\n\".join([doc.text for doc in docs]))"
   ]
  },
  {
   "cell_type": "markdown",
   "metadata": {},
   "source": [
    "## Setup Vector Store"
   ]
  },
  {
   "cell_type": "code",
   "execution_count": 10,
   "metadata": {},
   "outputs": [],
   "source": [
    "# vector store connect\n",
    "es_store = ElasticsearchStore(\n",
    "    index_name=\"test-llamaidx\",\n",
    "    es_url=\"http://localhost:9200\",)"
   ]
  },
  {
   "cell_type": "markdown",
   "metadata": {},
   "source": [
    "## Sentence Window Retrieval"
   ]
  },
  {
   "cell_type": "markdown",
   "metadata": {},
   "source": [
    "https://docs.llamaindex.ai/en/stable/examples/node_postprocessor/MetadataReplacementDemo.html"
   ]
  },
  {
   "cell_type": "code",
   "execution_count": 11,
   "metadata": {},
   "outputs": [],
   "source": [
    "from llama_index import ServiceContext, VectorStoreIndex, StorageContext\n",
    "from llama_index.node_parser import SentenceWindowNodeParser\n",
    "from llama_index.indices.postprocessor import MetadataReplacementPostProcessor\n",
    "from llama_index.indices.postprocessor import SentenceTransformerRerank\n"
   ]
  },
  {
   "cell_type": "code",
   "execution_count": 12,
   "metadata": {},
   "outputs": [],
   "source": [
    "# build index of sentence windows from document. \n",
    "def build_sentence_window_index(\n",
    "    document, llm, vector_store, embed_model=\"local:BAAI/bge-small-en-v1.5\"\n",
    "):\n",
    "    # parse documents into sentence windows\n",
    "    node_parser = SentenceWindowNodeParser.from_defaults(\n",
    "        window_size=3,\n",
    "        window_metadata_key=\"window\",\n",
    "        original_text_metadata_key=\"original_text\",\n",
    "    )\n",
    "\n",
    "    # manage services needed to build the index\n",
    "    sentence_context = ServiceContext.from_defaults(\n",
    "        llm=llm,\n",
    "        embed_model=embed_model,\n",
    "        node_parser=node_parser\n",
    "    )\n",
    "    # manage the storage of index\n",
    "    storage_context = StorageContext.from_defaults(vector_store=vector_store)\n",
    "    # create index using service context and storage context\n",
    "    sentence_index = VectorStoreIndex.from_documents(\n",
    "        [document], service_context=sentence_context, storage_context=storage_context\n",
    "    )\n",
    "\n",
    "    return sentence_index\n",
    "\n"
   ]
  },
  {
   "cell_type": "code",
   "execution_count": 13,
   "metadata": {},
   "outputs": [],
   "source": [
    "# Create a query engine from given sentence window index.\n",
    "def get_sentence_window_query_engine(\n",
    "    sentence_index,\n",
    "    similarity_top_k=6, # num of similar results to return \n",
    "    rerank_top_n=2, # num of top results to rerank\n",
    "):\n",
    "\n",
    "    postproc = MetadataReplacementPostProcessor(target_metadata_key=\"window\")\n",
    "    # reranks top results using sentence transformers\n",
    "    rerank = SentenceTransformerRerank(\n",
    "        top_n=rerank_top_n, model=\"BAAI/bge-reranker-base\"\n",
    "    )\n",
    "    \n",
    "    sentence_window_engine = sentence_index.as_query_engine(\n",
    "        similarity_top_k=similarity_top_k, node_postprocessors=[postproc, rerank]\n",
    "    )\n",
    "    return sentence_window_engine"
   ]
  },
  {
   "cell_type": "markdown",
   "metadata": {},
   "source": [
    "> The reranking process involves using the sentence transformer model to compute new similarity scores for the top rerank_top_n results and then sorting these results based on the new scores. This can help improve the relevance of the results by taking into account more complex semantic similarities that might not be captured by the initial ranking.\n",
    "\n"
   ]
  },
  {
   "cell_type": "code",
   "execution_count": 40,
   "metadata": {},
   "outputs": [],
   "source": [
    "sentence_index = build_sentence_window_index(\n",
    "    document,\n",
    "    llm,\n",
    "    embed_model=\"local:BAAI/bge-small-en-v1.5\",\n",
    "    vector_store=es_store\n",
    ")\n",
    "\n",
    "query_engine = get_sentence_window_query_engine(sentence_index=sentence_index, rerank_top_n=5)\n"
   ]
  },
  {
   "cell_type": "markdown",
   "metadata": {},
   "source": [
    "### Prompt Templates"
   ]
  },
  {
   "cell_type": "code",
   "execution_count": null,
   "metadata": {},
   "outputs": [],
   "source": [
    "# prompt templates\n",
    "print(f\"Prompt Templates:\\n\")\n",
    "print(f\"#\"*20)\n",
    "print(query_engine.get_prompts()[\"response_synthesizer:text_qa_template\"].default_template.template)\n",
    "print(f\"#\"*20)\n",
    "print(query_engine.get_prompts()[\"response_synthesizer:refine_template\"].default_template.template)"
   ]
  },
  {
   "cell_type": "markdown",
   "metadata": {},
   "source": [
    "### Response"
   ]
  },
  {
   "cell_type": "code",
   "execution_count": 75,
   "metadata": {},
   "outputs": [
    {
     "name": "stdout",
     "output_type": "stream",
     "text": [
      "If your company has not purchased Role-based Access as an addition to your GoSpotCheck Account, you will not see the option for the Manager role in your account. To find out more about setting up roles and access levels, please contact your designated GoSpotCheck Customer Success Manager.\n"
     ]
    }
   ],
   "source": [
    "resp = query_engine.query(\n",
    "    \"There is no manager option in gospot account\"\n",
    ")\n",
    "print(resp)\n"
   ]
  },
  {
   "cell_type": "code",
   "execution_count": null,
   "metadata": {},
   "outputs": [],
   "source": [
    "print(resp.source_nodes[0].node.metadata[\"window\"])\n",
    "print(\"-\"*30)\n",
    "print(resp.source_nodes[0].node.metadata[\"original_text\"])\n"
   ]
  },
  {
   "cell_type": "markdown",
   "metadata": {},
   "source": [
    "### Source documents"
   ]
  },
  {
   "cell_type": "code",
   "execution_count": null,
   "metadata": {},
   "outputs": [],
   "source": [
    "for source_node in resp.source_nodes:\n",
    "    print(source_node.node.text)\n",
    "    print(\"-\"*20)"
   ]
  }
 ],
 "metadata": {
  "kernelspec": {
   "display_name": "venv",
   "language": "python",
   "name": "python3"
  },
  "language_info": {
   "codemirror_mode": {
    "name": "ipython",
    "version": 3
   },
   "file_extension": ".py",
   "mimetype": "text/x-python",
   "name": "python",
   "nbconvert_exporter": "python",
   "pygments_lexer": "ipython3",
   "version": "3.8.10"
  }
 },
 "nbformat": 4,
 "nbformat_minor": 2
}
