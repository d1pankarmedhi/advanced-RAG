{
 "cells": [
  {
   "cell_type": "code",
   "execution_count": 1,
   "metadata": {},
   "outputs": [
    {
     "name": "stdout",
     "output_type": "stream",
     "text": [
      "Collecting llama-index\n",
      "  Using cached llama_index-0.9.39-py3-none-any.whl.metadata (8.3 kB)\n",
      "Collecting SQLAlchemy>=1.4.49 (from SQLAlchemy[asyncio]>=1.4.49->llama-index)\n",
      "  Using cached SQLAlchemy-2.0.25-cp38-cp38-manylinux_2_17_x86_64.manylinux2014_x86_64.whl.metadata (9.6 kB)\n",
      "Collecting aiohttp<4.0.0,>=3.8.6 (from llama-index)\n",
      "  Using cached aiohttp-3.9.2-cp38-cp38-manylinux_2_17_x86_64.manylinux2014_x86_64.whl.metadata (7.4 kB)\n",
      "Collecting dataclasses-json (from llama-index)\n",
      "  Using cached dataclasses_json-0.6.3-py3-none-any.whl.metadata (25 kB)\n",
      "Collecting deprecated>=1.2.9.3 (from llama-index)\n",
      "  Using cached Deprecated-1.2.14-py2.py3-none-any.whl.metadata (5.4 kB)\n",
      "Requirement already satisfied: fsspec>=2023.5.0 in /home/dipankar/dev/flexday/speciphicask-hybridretrieval/venv/lib/python3.8/site-packages (from llama-index) (2023.12.2)\n",
      "Requirement already satisfied: httpx in /home/dipankar/dev/flexday/speciphicask-hybridretrieval/venv/lib/python3.8/site-packages (from llama-index) (0.26.0)\n",
      "Requirement already satisfied: nest-asyncio<2.0.0,>=1.5.8 in /home/dipankar/dev/flexday/speciphicask-hybridretrieval/venv/lib/python3.8/site-packages (from llama-index) (1.6.0)\n",
      "Requirement already satisfied: networkx>=3.0 in /home/dipankar/dev/flexday/speciphicask-hybridretrieval/venv/lib/python3.8/site-packages (from llama-index) (3.1)\n",
      "Requirement already satisfied: nltk<4.0.0,>=3.8.1 in /home/dipankar/dev/flexday/speciphicask-hybridretrieval/venv/lib/python3.8/site-packages (from llama-index) (3.8.1)\n",
      "Requirement already satisfied: numpy in /home/dipankar/dev/flexday/speciphicask-hybridretrieval/venv/lib/python3.8/site-packages (from llama-index) (1.24.4)\n",
      "Collecting openai>=1.1.0 (from llama-index)\n",
      "  Using cached openai-1.10.0-py3-none-any.whl.metadata (18 kB)\n",
      "Requirement already satisfied: pandas in /home/dipankar/dev/flexday/speciphicask-hybridretrieval/venv/lib/python3.8/site-packages (from llama-index) (2.0.3)\n",
      "Requirement already satisfied: requests>=2.31.0 in /home/dipankar/dev/flexday/speciphicask-hybridretrieval/venv/lib/python3.8/site-packages (from llama-index) (2.31.0)\n",
      "Requirement already satisfied: tenacity<9.0.0,>=8.2.0 in /home/dipankar/dev/flexday/speciphicask-hybridretrieval/venv/lib/python3.8/site-packages (from llama-index) (8.2.3)\n",
      "Requirement already satisfied: tiktoken>=0.3.3 in /home/dipankar/dev/flexday/speciphicask-hybridretrieval/venv/lib/python3.8/site-packages (from llama-index) (0.5.2)\n",
      "Requirement already satisfied: typing-extensions>=4.5.0 in /home/dipankar/dev/flexday/speciphicask-hybridretrieval/venv/lib/python3.8/site-packages (from llama-index) (4.9.0)\n",
      "Collecting typing-inspect>=0.8.0 (from llama-index)\n",
      "  Using cached typing_inspect-0.9.0-py3-none-any.whl.metadata (1.5 kB)\n",
      "Collecting aiosignal>=1.1.2 (from aiohttp<4.0.0,>=3.8.6->llama-index)\n",
      "  Using cached aiosignal-1.3.1-py3-none-any.whl (7.6 kB)\n",
      "Requirement already satisfied: attrs>=17.3.0 in /home/dipankar/dev/flexday/speciphicask-hybridretrieval/venv/lib/python3.8/site-packages (from aiohttp<4.0.0,>=3.8.6->llama-index) (23.2.0)\n",
      "Collecting frozenlist>=1.1.1 (from aiohttp<4.0.0,>=3.8.6->llama-index)\n",
      "  Using cached frozenlist-1.4.1-cp38-cp38-manylinux_2_5_x86_64.manylinux1_x86_64.manylinux_2_17_x86_64.manylinux2014_x86_64.whl.metadata (12 kB)\n",
      "Collecting multidict<7.0,>=4.5 (from aiohttp<4.0.0,>=3.8.6->llama-index)\n",
      "  Using cached multidict-6.0.4-cp38-cp38-manylinux_2_17_x86_64.manylinux2014_x86_64.whl (121 kB)\n",
      "Collecting yarl<2.0,>=1.0 (from aiohttp<4.0.0,>=3.8.6->llama-index)\n",
      "  Using cached yarl-1.9.4-cp38-cp38-manylinux_2_17_x86_64.manylinux2014_x86_64.whl.metadata (31 kB)\n",
      "Collecting async-timeout<5.0,>=4.0 (from aiohttp<4.0.0,>=3.8.6->llama-index)\n",
      "  Using cached async_timeout-4.0.3-py3-none-any.whl.metadata (4.2 kB)\n",
      "Collecting wrapt<2,>=1.10 (from deprecated>=1.2.9.3->llama-index)\n",
      "  Using cached wrapt-1.16.0-cp38-cp38-manylinux_2_5_x86_64.manylinux1_x86_64.manylinux_2_17_x86_64.manylinux2014_x86_64.whl.metadata (6.6 kB)\n",
      "Requirement already satisfied: click in /home/dipankar/dev/flexday/speciphicask-hybridretrieval/venv/lib/python3.8/site-packages (from nltk<4.0.0,>=3.8.1->llama-index) (8.1.7)\n",
      "Requirement already satisfied: joblib in /home/dipankar/dev/flexday/speciphicask-hybridretrieval/venv/lib/python3.8/site-packages (from nltk<4.0.0,>=3.8.1->llama-index) (1.3.2)\n",
      "Requirement already satisfied: regex>=2021.8.3 in /home/dipankar/dev/flexday/speciphicask-hybridretrieval/venv/lib/python3.8/site-packages (from nltk<4.0.0,>=3.8.1->llama-index) (2023.12.25)\n",
      "Requirement already satisfied: tqdm in /home/dipankar/dev/flexday/speciphicask-hybridretrieval/venv/lib/python3.8/site-packages (from nltk<4.0.0,>=3.8.1->llama-index) (4.66.1)\n",
      "Requirement already satisfied: anyio<5,>=3.5.0 in /home/dipankar/dev/flexday/speciphicask-hybridretrieval/venv/lib/python3.8/site-packages (from openai>=1.1.0->llama-index) (4.2.0)\n",
      "Collecting distro<2,>=1.7.0 (from openai>=1.1.0->llama-index)\n",
      "  Using cached distro-1.9.0-py3-none-any.whl.metadata (6.8 kB)\n",
      "Requirement already satisfied: pydantic<3,>=1.9.0 in /home/dipankar/dev/flexday/speciphicask-hybridretrieval/venv/lib/python3.8/site-packages (from openai>=1.1.0->llama-index) (1.10.14)\n",
      "Requirement already satisfied: sniffio in /home/dipankar/dev/flexday/speciphicask-hybridretrieval/venv/lib/python3.8/site-packages (from openai>=1.1.0->llama-index) (1.3.0)\n",
      "Requirement already satisfied: certifi in /home/dipankar/dev/flexday/speciphicask-hybridretrieval/venv/lib/python3.8/site-packages (from httpx->llama-index) (2023.11.17)\n",
      "Requirement already satisfied: httpcore==1.* in /home/dipankar/dev/flexday/speciphicask-hybridretrieval/venv/lib/python3.8/site-packages (from httpx->llama-index) (1.0.2)\n",
      "Requirement already satisfied: idna in /home/dipankar/dev/flexday/speciphicask-hybridretrieval/venv/lib/python3.8/site-packages (from httpx->llama-index) (3.6)\n",
      "Requirement already satisfied: h11<0.15,>=0.13 in /home/dipankar/dev/flexday/speciphicask-hybridretrieval/venv/lib/python3.8/site-packages (from httpcore==1.*->httpx->llama-index) (0.14.0)\n",
      "Requirement already satisfied: charset-normalizer<4,>=2 in /home/dipankar/dev/flexday/speciphicask-hybridretrieval/venv/lib/python3.8/site-packages (from requests>=2.31.0->llama-index) (3.3.2)\n",
      "Requirement already satisfied: urllib3<3,>=1.21.1 in /home/dipankar/dev/flexday/speciphicask-hybridretrieval/venv/lib/python3.8/site-packages (from requests>=2.31.0->llama-index) (2.1.0)\n",
      "Collecting greenlet!=0.4.17 (from SQLAlchemy>=1.4.49->SQLAlchemy[asyncio]>=1.4.49->llama-index)\n",
      "  Using cached greenlet-3.0.3-cp38-cp38-manylinux_2_24_x86_64.manylinux_2_28_x86_64.whl.metadata (3.8 kB)\n",
      "Collecting mypy-extensions>=0.3.0 (from typing-inspect>=0.8.0->llama-index)\n",
      "  Using cached mypy_extensions-1.0.0-py3-none-any.whl (4.7 kB)\n",
      "Collecting marshmallow<4.0.0,>=3.18.0 (from dataclasses-json->llama-index)\n",
      "  Using cached marshmallow-3.20.2-py3-none-any.whl.metadata (7.5 kB)\n",
      "Requirement already satisfied: python-dateutil>=2.8.2 in /home/dipankar/dev/flexday/speciphicask-hybridretrieval/venv/lib/python3.8/site-packages (from pandas->llama-index) (2.8.2)\n",
      "Requirement already satisfied: pytz>=2020.1 in /home/dipankar/dev/flexday/speciphicask-hybridretrieval/venv/lib/python3.8/site-packages (from pandas->llama-index) (2023.3.post1)\n",
      "Requirement already satisfied: tzdata>=2022.1 in /home/dipankar/dev/flexday/speciphicask-hybridretrieval/venv/lib/python3.8/site-packages (from pandas->llama-index) (2023.4)\n",
      "Requirement already satisfied: exceptiongroup>=1.0.2 in /home/dipankar/dev/flexday/speciphicask-hybridretrieval/venv/lib/python3.8/site-packages (from anyio<5,>=3.5.0->openai>=1.1.0->llama-index) (1.2.0)\n",
      "Requirement already satisfied: packaging>=17.0 in /home/dipankar/dev/flexday/speciphicask-hybridretrieval/venv/lib/python3.8/site-packages (from marshmallow<4.0.0,>=3.18.0->dataclasses-json->llama-index) (23.2)\n",
      "Requirement already satisfied: six>=1.5 in /home/dipankar/dev/flexday/speciphicask-hybridretrieval/venv/lib/python3.8/site-packages (from python-dateutil>=2.8.2->pandas->llama-index) (1.16.0)\n",
      "Using cached llama_index-0.9.39-py3-none-any.whl (15.9 MB)\n",
      "Using cached aiohttp-3.9.2-cp38-cp38-manylinux_2_17_x86_64.manylinux2014_x86_64.whl (1.3 MB)\n",
      "Using cached Deprecated-1.2.14-py2.py3-none-any.whl (9.6 kB)\n",
      "Using cached openai-1.10.0-py3-none-any.whl (225 kB)\n",
      "Using cached SQLAlchemy-2.0.25-cp38-cp38-manylinux_2_17_x86_64.manylinux2014_x86_64.whl (3.1 MB)\n",
      "Using cached typing_inspect-0.9.0-py3-none-any.whl (8.8 kB)\n",
      "Using cached dataclasses_json-0.6.3-py3-none-any.whl (28 kB)\n",
      "Using cached async_timeout-4.0.3-py3-none-any.whl (5.7 kB)\n",
      "Using cached distro-1.9.0-py3-none-any.whl (20 kB)\n",
      "Using cached frozenlist-1.4.1-cp38-cp38-manylinux_2_5_x86_64.manylinux1_x86_64.manylinux_2_17_x86_64.manylinux2014_x86_64.whl (240 kB)\n",
      "Using cached greenlet-3.0.3-cp38-cp38-manylinux_2_24_x86_64.manylinux_2_28_x86_64.whl (622 kB)\n",
      "Using cached marshmallow-3.20.2-py3-none-any.whl (49 kB)\n",
      "Using cached wrapt-1.16.0-cp38-cp38-manylinux_2_5_x86_64.manylinux1_x86_64.manylinux_2_17_x86_64.manylinux2014_x86_64.whl (83 kB)\n",
      "Using cached yarl-1.9.4-cp38-cp38-manylinux_2_17_x86_64.manylinux2014_x86_64.whl (308 kB)\n",
      "Installing collected packages: wrapt, mypy-extensions, multidict, marshmallow, greenlet, frozenlist, distro, async-timeout, yarl, typing-inspect, SQLAlchemy, deprecated, aiosignal, openai, dataclasses-json, aiohttp, llama-index\n",
      "Successfully installed SQLAlchemy-2.0.25 aiohttp-3.9.2 aiosignal-1.3.1 async-timeout-4.0.3 dataclasses-json-0.6.3 deprecated-1.2.14 distro-1.9.0 frozenlist-1.4.1 greenlet-3.0.3 llama-index-0.9.39 marshmallow-3.20.2 multidict-6.0.4 mypy-extensions-1.0.0 openai-1.10.0 typing-inspect-0.9.0 wrapt-1.16.0 yarl-1.9.4\n",
      "Note: you may need to restart the kernel to use updated packages.\n"
     ]
    }
   ],
   "source": [
    "%pip install llama-index"
   ]
  },
  {
   "cell_type": "code",
   "execution_count": 15,
   "metadata": {},
   "outputs": [
    {
     "name": "stdout",
     "output_type": "stream",
     "text": [
      "Collecting pypdf\n",
      "  Downloading pypdf-4.0.1-py3-none-any.whl.metadata (7.4 kB)\n",
      "Requirement already satisfied: typing_extensions>=3.7.4.3 in /home/dipankar/dev/flexday/speciphicask-hybridretrieval/venv/lib/python3.8/site-packages (from pypdf) (4.9.0)\n",
      "Downloading pypdf-4.0.1-py3-none-any.whl (283 kB)\n",
      "\u001b[2K   \u001b[90m━━━━━━━━━━━━━━━━━━━━━━━━━━━━━━━━━━━━━━━━\u001b[0m \u001b[32m284.0/284.0 kB\u001b[0m \u001b[31m1.2 MB/s\u001b[0m eta \u001b[36m0:00:00\u001b[0ma \u001b[36m0:00:01\u001b[0mm\n",
      "\u001b[?25hInstalling collected packages: pypdf\n",
      "Successfully installed pypdf-4.0.1\n",
      "Note: you may need to restart the kernel to use updated packages.\n"
     ]
    }
   ],
   "source": [
    "%pip install pypdf"
   ]
  },
  {
   "cell_type": "code",
   "execution_count": 20,
   "metadata": {},
   "outputs": [],
   "source": [
    "import openai\n",
    "from llama_index.llms import OpenAI\n",
    "llm = OpenAI(model=\"gpt-3.5-turbo\", temperature=0.1)"
   ]
  },
  {
   "cell_type": "code",
   "execution_count": 3,
   "metadata": {},
   "outputs": [],
   "source": [
    "import llama_index\n",
    "from llama_index.vector_stores import ElasticsearchStore"
   ]
  },
  {
   "cell_type": "code",
   "execution_count": 18,
   "metadata": {},
   "outputs": [
    {
     "name": "stderr",
     "output_type": "stream",
     "text": [
      "Overwriting cache for 0 422\n"
     ]
    },
    {
     "data": {
      "text/plain": [
       "[Document(id_='c4a8f634-2835-43f2-ad63-5c7c30f6f282', embedding=None, metadata={'page_label': '1', 'file_name': 'Anti-Harassment and Anti-Discrimination Policy (Global)_Rev. March 2023_English.pdf', 'file_path': '../data/Anti-Harassment and Anti-Discrimination Policy (Global)_Rev. March 2023_English.pdf', 'file_type': 'application/pdf', 'file_size': 756149, 'creation_date': '2024-01-29', 'last_modified_date': '2024-01-29', 'last_accessed_date': '2024-01-29'}, excluded_embed_metadata_keys=['file_name', 'file_type', 'file_size', 'creation_date', 'last_modified_date', 'last_accessed_date'], excluded_llm_metadata_keys=['file_name', 'file_type', 'file_size', 'creation_date', 'last_modified_date', 'last_accessed_date'], relationships={}, text=' \\n1 Rev. March  2023  \\nAnti- Harassment and Anti -Discrimination Policy  (Global)  \\nPurpose  \\nGraphic Packaging ’s Core Values include Respec t—for the personal dignity, rights, and diversity of every \\nemployee.  The Company is committed to fostering and inspiring an innovative and inclusive working \\nenvironment where employees are respected, and they feel engaged and safe.  This Anti -Harassment and  Anti-\\nDiscrimination Policy details how Graphic Packaging provides all employees with a respectful working \\nenvironment that is free of all forms of unlawful discrimination, harassment, and retaliation and that provides \\nthem with the opportunity to perform and develop to the best of their abilities.  \\nScope  \\nThis Policy applies to all applicants, employees, contractors, interns, suppliers, customers,  and visitors of all \\nGraphic Packaging legal entities worldwide .  For the purpose of this Policy, “workplace” includes manufacturing \\nfacilities, sales and research and development offices, warehouses, any settings employees visit or attend while \\ncarrying out the ir job responsibilities and duties  or representing the Compa ny, including but not limited to work -\\nrelated social events, customer sites and entertainment events, mode s of transportation provided by Graphic \\nPackaging for work- related travel, and any other location where Graphic Packaging business is being conducted , \\nor which can be reasonably regarded as an extension of the workplace.   \\nThis Policy applies to physical conduct and actions as well as all forms of communication including, but not \\nlimited to, in -person communications, telephonic exchanges, email, social media applications and sites, text \\nmessages, and other types of electronic communications.  Employees should refer to the Company’s Social \\nMedia Policy for additional guidelines concerning those communications.  \\nThis Policy may be supplemented by local poli cies containing additional requirements or setting forth specific \\nlocal procedures regarding the handling of investigations.  Where this P olicy conflicts with an applicable collective \\nbargaining agreement  or law, the latter will prevail.  The Company reser ves all rights available to it under \\napplicable law.  \\nDefinitions  \\nDiscrimination  is the unfair denial of equal treatment and opportunity to individuals or groups based on the \\ncharacteristics listed below with respect to the terms, conditions, or privileges of employment, including but not \\nlimited to, hiring, firing, promoting, disciplining, scheduling, training, or compensation:  \\n• Race, color, ethnicity, or national origin;  \\n• Age;  \\n• Religion or religious beliefs;  \\n• Sex, sexual orientation, or p regnancy/childbirth  and related medical conditions ; \\n• Gender , gender identity, gender status, or gender expression; \\n• Nationality, immigration status, citizenship, or ancestry;  \\n• Protected Military or veteran status;  \\n• Physical or mental disability, medical condition, genetic information,  or characteristics; and   \\n• Marital status  ', start_char_idx=None, end_char_idx=None, text_template='{metadata_str}\\n\\n{content}', metadata_template='{key}: {value}', metadata_seperator='\\n'),\n",
       " Document(id_='070dabe9-f381-4107-88aa-e1b33c46d225', embedding=None, metadata={'page_label': '2', 'file_name': 'Anti-Harassment and Anti-Discrimination Policy (Global)_Rev. March 2023_English.pdf', 'file_path': '../data/Anti-Harassment and Anti-Discrimination Policy (Global)_Rev. March 2023_English.pdf', 'file_type': 'application/pdf', 'file_size': 756149, 'creation_date': '2024-01-29', 'last_modified_date': '2024-01-29', 'last_accessed_date': '2024-01-29'}, excluded_embed_metadata_keys=['file_name', 'file_type', 'file_size', 'creation_date', 'last_modified_date', 'last_accessed_date'], excluded_llm_metadata_keys=['file_name', 'file_type', 'file_size', 'creation_date', 'last_modified_date', 'last_accessed_date'], relationships={}, text=' \\n2 Rev. March  2023  \\nThis list is not exhaustive of all categories protected from discrimination and may be supplemented by applicable \\nlocal laws or regulations . \\nHara ssment  is unwelcomed and degrading, abusive, intimidating,  or hostile verbal or physical conduct including \\ncomments, actions, or gestures that affect an individual’s dignity or psychological or physical integrity.  \\nHarassment can take many forms, such as physical touching, violence, a threat of  violence, offensive violence, \\ninappropriate teasing or joking, and displa ying offensi ve images.  A single incident or statement or a pattern or \\nseries of acts, incidents, or statements may constitute harassment under this P olicy.  By way of illustration only, \\nand not limitation, such prohibited harassment includes:  \\n• racial or ethnic slurs, epithets, and any other offensive remarks;  \\n• jokes, whether written, verbal, or electronic;  \\n• threats, intimidation, and other menacing behavior;  \\n• inappropriate verbal, graphic, or physical conduct;  \\n• harassing messages or videos sent via text, instant messaging,  or social media; and  \\n• other harassing conduct based on one or more of the protected categories identified in this P olicy. \\nVictims of harassment can be of the same or different sex, sexual orientation, race, or other characteristics as \\nthe harasser.  \\nSexual Harassment  is harassment specifically based on sex, gender, gender identity or expression, or sexual \\norientation that is unwelcome as well as  degrading, abusing, intimidating, or hostile.  Conduct may be considered \\nsexual harassment even when it is not mot ivated by sexual desire.  By way of illustration only, and not limitation, \\nsome examples of unlawful and unacceptable behavior include:  \\n• unwanted sexual advances; \\n• offering an employment benefit (such as a raise, promotion,  or career advancement) in exchange for \\nsexual favors, or threatening an employment detriment (such as termination or demotion) for an \\nemployee’s failure to engage in sexual activity;  \\n• visual conduct, such as leering, making sexual gestures, and displaying or posting sexually suggestive objects or pictures, cartoons,  or posters;  \\n• verbal sexual advances, propositions, requests,  or comments;  \\n• sending or posting sexually related  messages, videos or messages via text, instant messaging, or social \\nmedia;  \\n• stalking;  \\n• verbal abuse of a sexual nature, graphic verbal comments about an individual’s body, sexually degrading words used to describe an individual, and suggestive or obscene letters, notes , or invitations;  \\n• physical conduct, such as touching, groping, assault, or  blocking movement;  \\n• physical or verbal abuse concerning an individual’s gender, gender identity or gender expression; and  \\n• verbal abuse concerning a person’s characteristics such as pitch of voice, facial hair or the size or shape of a person’s body, includ ing remarks that a man is too feminine,  or a woman is too masculine.  \\n  ', start_char_idx=None, end_char_idx=None, text_template='{metadata_str}\\n\\n{content}', metadata_template='{key}: {value}', metadata_seperator='\\n'),\n",
       " Document(id_='c7e5df91-7ef4-4fbb-aa91-51d52bf72ba8', embedding=None, metadata={'page_label': '3', 'file_name': 'Anti-Harassment and Anti-Discrimination Policy (Global)_Rev. March 2023_English.pdf', 'file_path': '../data/Anti-Harassment and Anti-Discrimination Policy (Global)_Rev. March 2023_English.pdf', 'file_type': 'application/pdf', 'file_size': 756149, 'creation_date': '2024-01-29', 'last_modified_date': '2024-01-29', 'last_accessed_date': '2024-01-29'}, excluded_embed_metadata_keys=['file_name', 'file_type', 'file_size', 'creation_date', 'last_modified_date', 'last_accessed_date'], excluded_llm_metadata_keys=['file_name', 'file_type', 'file_size', 'creation_date', 'last_modified_date', 'last_accessed_date'], relationships={}, text=\" \\n3 Rev. March  2023  \\nPolicy  \\nGeneral Prohibition  \\nThe Company  prohibits all forms of discrimination and harassment based on the characteristics provided above .  \\nIt is the responsibility of all employees to report harassing or discriminating behavior.  The Company will take \\nnecessary action to investigate and address incidents that may constitute discrimination or harassment in a \\ntimely manner and in accordance with applicable laws and regulations.  Substantiated cases of discrimination \\nor harassment will result in corrective  action up to an d including termination , considering  all circumstances and \\napplicable laws and regulations.   \\nConsensual Relationships  \\nThis Policy does not prohibit private, consensual romantic relationships between employees.   However, if a \\nprivate, consensual romantic relationship creates a possible conflict of interest (e.g., the parties are in the same \\nreporting structure) the relationship should immediately be disclosed in accordance with the Company’s Conflicts \\nof Interest Policy  (Global) .  Additionally, it is possible to harass or discriminate against a partner in an otherwise \\nconsensual romantic relationship.   \\nReporting Suspected Violations of this Policy  \\nEvery individual subject to this Policy has the  responsibility to bring conc erns about suspected discrimination or \\nharassment to the Company's attention so that the situation at issue can be addressed.   The Company takes all \\ncomplaints of discrimination and harassment seriously.  \\nAnyone who believes they have been harassed in the w orkplace or who witnesses or learns about any action \\nthat could be viewed as harassment should report the conduct immediately  to one of the following:  \\n• A local or assigned  human resources representative . \\n• A regional or divisional h uman resources representative or another member of h uman resources in their \\ncountry or region .  \\n• The executive vice president of human resources  at EVP -Human Resources@graphicpkg.com . \\n• The Graphic Packaging Business Conduct Alertline at www.gpibusinessconductalertline.ethicspoint.com  \\nor via the toll-free telephone number for their country.  The Graphic Packaging Alertline is available 24 \\nhours  per day . Reports may be made anonymously if the reporter chooses.  \\nCountry -specific Business Conduct  Alertline telephone numbers:  \\nAustralia  1800565761   Italy 800 725 944  \\nAustria  0800 017868   Japan  0800-700-9401 \\nBelgium  0800 77 076   Mexico  800 681 6714  \\nBrazil  0800 000 0572   Netherlands  0800 0229398  \\nCanada  1.866.898.3750  \\n1.855.350.9393   New Zealand  0800 426 361  \\nChina  400 120 3531   Nigeria  0-708-060-1816,  \\nthen 866-898-3750 \\nCroatia  800-528-422  Norway  80062436  \\nEstonia  8000044232   Poland  800005072  \\nFinland  800416130   Russia  8 (800) 301 -85-89 \\nFrance  0.800.90.2500   South Korea  00798 14 203 0389  \", start_char_idx=None, end_char_idx=None, text_template='{metadata_str}\\n\\n{content}', metadata_template='{key}: {value}', metadata_seperator='\\n'),\n",
       " Document(id_='3c67ee98-5391-4102-8e08-2bd86eb304e8', embedding=None, metadata={'page_label': '4', 'file_name': 'Anti-Harassment and Anti-Discrimination Policy (Global)_Rev. March 2023_English.pdf', 'file_path': '../data/Anti-Harassment and Anti-Discrimination Policy (Global)_Rev. March 2023_English.pdf', 'file_type': 'application/pdf', 'file_size': 756149, 'creation_date': '2024-01-29', 'last_modified_date': '2024-01-29', 'last_accessed_date': '2024-01-29'}, excluded_embed_metadata_keys=['file_name', 'file_type', 'file_size', 'creation_date', 'last_modified_date', 'last_accessed_date'], excluded_llm_metadata_keys=['file_name', 'file_type', 'file_size', 'creation_date', 'last_modified_date', 'last_accessed_date'], relationships={}, text=' \\n4 Rev. March  2023  \\nGermany  0800 1810751   Spain  900.991.498  \\nGreece  0.080.012.6576   Sweden  020-088 00 16  \\nIndonesia  0800 1401907   Switzerland  0800 000 329  \\nIreland  1800 851 822   United Kingdom  0800 048 5494  \\n   United States  1.866.898.3750  \\nManagers and supervisors: All managers and supervisors are responsible for preventing harassment and \\ndiscrimination in the workplace  as part of their job duties  and are required to report any discriminatory  or \\nharassing behavior they observ e or complaints they receive to h uman resources or the Graphic Packaging \\nBusiness Conduct Alertline immediately .  Managers or su pervisors who are aware of discrimination or \\nharassment  and take no action to stop or report the behavior to Human Resources or the Graphic Packaging \\nBusiness Conduct  Alertline may be subject to discipline . \\nInvestigations  a nd Confidentiality  \\nAll reports of suspected discrimination or harassment will be investigated in an objective and timely manner.  \\nAll employees are expected to c ooperate with investigations taken pursuant to this Policy.  Failure to cooperate \\nin an investigation may result in disciplinary action.  Further, given the serious nature of discrimination and \\nharassment,  making a report or complaint in bad faith or with malicious intent will result in discipline.   \\nThe Company will keep all reports of suspected discrimination or harassment confidential to the extent \\nreasonably practical while still fulfilling its obligation to inve stigate and end any harassing, discriminatory, or \\nretaliatory conduct.  It m ay be necessary to discuss the claims with the person(s) with knowledge and the \\nperson(s) against whom the report or complaint is made.   \\nIt is necessary to collect personal data d uring the investigation of suspected discrimination or harassment as \\nevidence of the validity or invalidity of the facts at issue.  The Company will abide by all applicable laws and \\nregulations pertaining to the protection of personal data .  Personal data o f the persons involved in an \\ninvestigation will be processed by the h uman resources and l aw departments of the Company only for the \\npurposes of investigating the reported conduct and will be communicated only to those who need to know about \\nthe reported co nduct as well as to any public, administrative, or judicial authority  as required.   \\nIf necessary, corrective action appropriate to the investigation’s findings will be taken.  Possible corrective action may include, but is not limited to, training, coaching, verbal or written warnings, suspension, demotion, \\ncompensation adjustments, and t ermination.  The Company will make every effort to inform those reporting \\nviolations of this P olicy of the outcome of the investigation when feasible while maintaining confidentiality and \\nprivacy concerns pertaining to personnel actions.  \\nNo Retaliation  \\nThe Company is committed to prohibiting retaliation against those who themselves or whose family members \\nreport, oppose, or participate in an investigation of alleged wrongdoing in the workplace.  By way of example, \\nparticipating in an investigation, includes, but is not limited to:  \\n• Filing a harassment complaint;  \\n• Participating in or cooperating in an investigation regarding a complaint of harassment;  \\n• Testifying as a party  (whether as accuser or accused) or witness  regarding alleged unlawful activity;  \\n• Making or filing an internal complaint with the Company regarding alleged unlawful activity;  \\n• Providing informal notice to the Company regarding alleged unlawful activity;  and ', start_char_idx=None, end_char_idx=None, text_template='{metadata_str}\\n\\n{content}', metadata_template='{key}: {value}', metadata_seperator='\\n'),\n",
       " Document(id_='34985d9d-076e-476f-8705-e70e7fd85895', embedding=None, metadata={'page_label': '5', 'file_name': 'Anti-Harassment and Anti-Discrimination Policy (Global)_Rev. March 2023_English.pdf', 'file_path': '../data/Anti-Harassment and Anti-Discrimination Policy (Global)_Rev. March 2023_English.pdf', 'file_type': 'application/pdf', 'file_size': 756149, 'creation_date': '2024-01-29', 'last_modified_date': '2024-01-29', 'last_accessed_date': '2024-01-29'}, excluded_embed_metadata_keys=['file_name', 'file_type', 'file_size', 'creation_date', 'last_modified_date', 'last_accessed_date'], excluded_llm_metadata_keys=['file_name', 'file_type', 'file_size', 'creation_date', 'last_modified_date', 'last_accessed_date'], relationships={}, text=' \\n5 Rev. March  2023  \\n• Assisting another employee who is engaged in any of these activities.  \\nThe Company  is further committed to prohibiting retaliation against qualified employees who request a \\nreasonable accommodation for any known physical or mental disability and employees who request a reasonable \\naccommodation of their religious beliefs and observances.   \\nAnyone who believes that they are being retaliated against, or who observes retaliation by or against another \\nperson, should immediately contact Human Resources or the Graphic Packaging Business Conduct Alertline.  \\nGraphic Packaging,  at its sole discretio n, reserves the right to amend or modify this Policy at any time and for \\nany reason.  ', start_char_idx=None, end_char_idx=None, text_template='{metadata_str}\\n\\n{content}', metadata_template='{key}: {value}', metadata_seperator='\\n'),\n",
       " Document(id_='7482dc2b-f497-4dbe-833a-5e54145d18f4', embedding=None, metadata={'page_label': '6', 'file_name': 'Anti-Harassment and Anti-Discrimination Policy (Global)_Rev. March 2023_English.pdf', 'file_path': '../data/Anti-Harassment and Anti-Discrimination Policy (Global)_Rev. March 2023_English.pdf', 'file_type': 'application/pdf', 'file_size': 756149, 'creation_date': '2024-01-29', 'last_modified_date': '2024-01-29', 'last_accessed_date': '2024-01-29'}, excluded_embed_metadata_keys=['file_name', 'file_type', 'file_size', 'creation_date', 'last_modified_date', 'last_accessed_date'], excluded_llm_metadata_keys=['file_name', 'file_type', 'file_size', 'creation_date', 'last_modified_date', 'last_accessed_date'], relationships={}, text='', start_char_idx=None, end_char_idx=None, text_template='{metadata_str}\\n\\n{content}', metadata_template='{key}: {value}', metadata_seperator='\\n'),\n",
       " Document(id_='0629eed7-bd7f-4f89-8c1d-42c7b16262c7', embedding=None, metadata={'page_label': '1', 'file_name': 'dashboard_Adding a New User Help Center.pdf', 'file_path': '../data/dashboard_Adding a New User Help Center.pdf', 'file_type': 'application/pdf', 'file_size': 511579, 'creation_date': '2024-01-29', 'last_modified_date': '2024-01-29', 'last_accessed_date': '2024-01-29'}, excluded_embed_metadata_keys=['file_name', 'file_type', 'file_size', 'creation_date', 'last_modified_date', 'last_accessed_date'], excluded_llm_metadata_keys=['file_name', 'file_type', 'file_size', 'creation_date', 'last_modified_date', 'last_accessed_date'], relationships={}, text='1 / 4Adding a New User – Help Center\\nsupport.gospotcheck.com /hc/en-us/articles/360003612414-Adding-a-New-User\\nAdding a New User\\nYou’re all logged in to the GoSpotCheck Dashboard and ready to start adding your Users to\\nyour account (unless you want to take on the task of completing all of the Missions yourself ,\\nin which case, Godspeed!).\\nDepending on the number of Users you need to add at a single time, you can add\\nPeople either:\\n1. Individually  (recommended when adding small group of Users)\\n2. In bulk, using the CSV upload tool .\\nPlease note, only admins have access to add new users. Any questions, please reach out to\\nSupport at support@gospotcheck.com.\\nAdding Users Individually\\n1. Navigate to the “People” tab in your Dashboard, and then click the blue “ + New User ”\\nbutton in the upper righthand corner.\\n2. You’ll be prompted to enter the User’s First Name, Last Name, and Email. You also\\nhave the option to add your User’s Phone Number, if desired (don’t worry, we won’t call\\nand ask if their refrigerator is running!).', start_char_idx=None, end_char_idx=None, text_template='{metadata_str}\\n\\n{content}', metadata_template='{key}: {value}', metadata_seperator='\\n'),\n",
       " Document(id_='fdea4f21-d9d9-4366-8d83-f4e45c1d838a', embedding=None, metadata={'page_label': '2', 'file_name': 'dashboard_Adding a New User Help Center.pdf', 'file_path': '../data/dashboard_Adding a New User Help Center.pdf', 'file_type': 'application/pdf', 'file_size': 511579, 'creation_date': '2024-01-29', 'last_modified_date': '2024-01-29', 'last_accessed_date': '2024-01-29'}, excluded_embed_metadata_keys=['file_name', 'file_type', 'file_size', 'creation_date', 'last_modified_date', 'last_accessed_date'], excluded_llm_metadata_keys=['file_name', 'file_type', 'file_size', 'creation_date', 'last_modified_date', 'last_accessed_date'], relationships={}, text=\"2 / 4\\nNOTE:  You can choose to send an invitation email to your Users as you add them to your\\nDashboard. By checking that box, your Users will receive an invitation email upon upon the\\ncreation of their account. (You’ll also have the option to invite your Users at a later time if\\nyou'd rather not invite them right away!). To view the invitation email contents and learn\\nmore about Invitations and User Activation Status, click HERE . \\nNeed to send more than one invite?\\n Admins and Role-Based Users with access to the People Tab can bulk Invite and Re-Invite\\nusers with the “Invite All” and “Re-Invite All” Buttons.\\nTeams\\nTeams  organize Users into various groups based on criteria of your choosing. When creating\\na new User account, you have the option to add them to any Team that has already been\\ncreated for your company. All Users are automatically included in the “All” Team by default,\\nbut Users can be a part of an unlimited number of teams. For more information on Creating\\nand Editing Teams, click HERE .\\nUser Properties\", start_char_idx=None, end_char_idx=None, text_template='{metadata_str}\\n\\n{content}', metadata_template='{key}: {value}', metadata_seperator='\\n'),\n",
       " Document(id_='1a608eae-e0d8-403f-8131-bdd0ae3ac765', embedding=None, metadata={'page_label': '3', 'file_name': 'dashboard_Adding a New User Help Center.pdf', 'file_path': '../data/dashboard_Adding a New User Help Center.pdf', 'file_type': 'application/pdf', 'file_size': 511579, 'creation_date': '2024-01-29', 'last_modified_date': '2024-01-29', 'last_accessed_date': '2024-01-29'}, excluded_embed_metadata_keys=['file_name', 'file_type', 'file_size', 'creation_date', 'last_modified_date', 'last_accessed_date'], excluded_llm_metadata_keys=['file_name', 'file_type', 'file_size', 'creation_date', 'last_modified_date', 'last_accessed_date'], relationships={}, text='3 / 4You can attribute property values to your Users where additional data might be needed.\\nExamples of properties could include regions, division, etc . If you’d like to add User\\nproperties, please reach out to your designated Customer Success Manager for configuration.\\nIf you’ve already  configured properties for your Users, you can assign property values here.\\nNOTE:  If you have NOT configured any User properties, you will not see the Properties field\\nat all!\\nRoles\\nRoles  allow you to determine the level of access you want each User to have.\\nUSER  - Access to the GoSpotCheck Mobile Application/myGSC only (default)\\nCOMPANY ADMIN  - Full View and Edit access to both the GoSpotCheck Dashboard\\n& the Mobile Application\\nREVIEWER - FULL access to the GoSpotCheck Mobile Application & SCOPED,\\nCUSTOMIZED access to view/edit within the GoSpotCheck Dashboard. For more\\ninformation on Role Based Access, click HERE . \\nA word on the Manager Role:  You will only see the role of Manager as a potential option\\nif your company has purchased Role-based Access as an addition to your GoSpotCheck\\nAccount. To find out more about setting up Roles, please contact your designated GSC\\nCustomer Success Manager.\\nWhen finished inputting all necessary information, click the blue \" Create User \" button in\\nthe bottom righthand corner of the page. \\n Cheers  on the successful addition of reinforcements to your GoSpotCheck team! \\nstar', start_char_idx=None, end_char_idx=None, text_template='{metadata_str}\\n\\n{content}', metadata_template='{key}: {value}', metadata_seperator='\\n'),\n",
       " Document(id_='5e623ef3-7e33-4a35-ae27-001deb17d085', embedding=None, metadata={'page_label': '4', 'file_name': 'dashboard_Adding a New User Help Center.pdf', 'file_path': '../data/dashboard_Adding a New User Help Center.pdf', 'file_type': 'application/pdf', 'file_size': 511579, 'creation_date': '2024-01-29', 'last_modified_date': '2024-01-29', 'last_accessed_date': '2024-01-29'}, excluded_embed_metadata_keys=['file_name', 'file_type', 'file_size', 'creation_date', 'last_modified_date', 'last_accessed_date'], excluded_llm_metadata_keys=['file_name', 'file_type', 'file_size', 'creation_date', 'last_modified_date', 'last_accessed_date'], relationships={}, text='4 / 4\\nHave more questions? Submit a\\nrequest\\n \\n ', start_char_idx=None, end_char_idx=None, text_template='{metadata_str}\\n\\n{content}', metadata_template='{key}: {value}', metadata_seperator='\\n'),\n",
       " Document(id_='cdbd6296-4a49-464c-b37f-67b90346a6b8', embedding=None, metadata={'page_label': '1', 'file_name': 'dashboard_How to Clear Cache and Storage (Android).pdf', 'file_path': '../data/dashboard_How to Clear Cache and Storage (Android).pdf', 'file_type': 'application/pdf', 'file_size': 518949, 'creation_date': '2024-01-29', 'last_modified_date': '2024-01-29', 'last_accessed_date': '2024-01-29'}, excluded_embed_metadata_keys=['file_name', 'file_type', 'file_size', 'creation_date', 'last_modified_date', 'last_accessed_date'], excluded_llm_metadata_keys=['file_name', 'file_type', 'file_size', 'creation_date', 'last_modified_date', 'last_accessed_date'], relationships={}, text='1 / 7How to Clear Cache and Storage (Android)\\nsupport.gospotcheck.com /hc/en-us/articles/235543287-How-to-Clear-Cache-and-Storage-Android-\\nAndroid devices may periodically need to have the Cache and Storage cleared. This will\\nensure that the data on your device is updated. If your issue is still not resolved after\\nclearing the cache, we may ask that you Delete the App (Android) . \\nClear Your Cache and Storage on Android\\n1. Tap into your Android Settings  (blue cog icon), then find Apps & Notifications\\n2. Tap App Info\\n3. Scroll to and tap GoSpotCheck\\n4. Tap Storage & Cache\\n5. Tap Clear Cache\\n6. Tap Clear Storage  (This will delete any In-Progress Mission Responses on your\\ndevice )\\nBe careful! Clearing the Storage (not Cache) will delete any in-progress Mission\\nResponses. \\nClearing the Cache & Storage on your Android Device\\n   \\n   \\n   \\nstar\\nHave more questions? Submit a request\\n ', start_char_idx=None, end_char_idx=None, text_template='{metadata_str}\\n\\n{content}', metadata_template='{key}: {value}', metadata_seperator='\\n'),\n",
       " Document(id_='783d810a-d213-4c5f-b9f8-05723640cbbc', embedding=None, metadata={'page_label': '2', 'file_name': 'dashboard_How to Clear Cache and Storage (Android).pdf', 'file_path': '../data/dashboard_How to Clear Cache and Storage (Android).pdf', 'file_type': 'application/pdf', 'file_size': 518949, 'creation_date': '2024-01-29', 'last_modified_date': '2024-01-29', 'last_accessed_date': '2024-01-29'}, excluded_embed_metadata_keys=['file_name', 'file_type', 'file_size', 'creation_date', 'last_modified_date', 'last_accessed_date'], excluded_llm_metadata_keys=['file_name', 'file_type', 'file_size', 'creation_date', 'last_modified_date', 'last_accessed_date'], relationships={}, text='2 / 7STEP 1\\n ', start_char_idx=None, end_char_idx=None, text_template='{metadata_str}\\n\\n{content}', metadata_template='{key}: {value}', metadata_seperator='\\n'),\n",
       " Document(id_='e8ad6dae-2445-4e20-aac7-9a2e2229b42a', embedding=None, metadata={'page_label': '3', 'file_name': 'dashboard_How to Clear Cache and Storage (Android).pdf', 'file_path': '../data/dashboard_How to Clear Cache and Storage (Android).pdf', 'file_type': 'application/pdf', 'file_size': 518949, 'creation_date': '2024-01-29', 'last_modified_date': '2024-01-29', 'last_accessed_date': '2024-01-29'}, excluded_embed_metadata_keys=['file_name', 'file_type', 'file_size', 'creation_date', 'last_modified_date', 'last_accessed_date'], excluded_llm_metadata_keys=['file_name', 'file_type', 'file_size', 'creation_date', 'last_modified_date', 'last_accessed_date'], relationships={}, text='3 / 7STEP 2\\n ', start_char_idx=None, end_char_idx=None, text_template='{metadata_str}\\n\\n{content}', metadata_template='{key}: {value}', metadata_seperator='\\n'),\n",
       " Document(id_='941171e3-252c-481b-81ed-c89d7282a31b', embedding=None, metadata={'page_label': '4', 'file_name': 'dashboard_How to Clear Cache and Storage (Android).pdf', 'file_path': '../data/dashboard_How to Clear Cache and Storage (Android).pdf', 'file_type': 'application/pdf', 'file_size': 518949, 'creation_date': '2024-01-29', 'last_modified_date': '2024-01-29', 'last_accessed_date': '2024-01-29'}, excluded_embed_metadata_keys=['file_name', 'file_type', 'file_size', 'creation_date', 'last_modified_date', 'last_accessed_date'], excluded_llm_metadata_keys=['file_name', 'file_type', 'file_size', 'creation_date', 'last_modified_date', 'last_accessed_date'], relationships={}, text='4 / 7STEP 3\\n>  ', start_char_idx=None, end_char_idx=None, text_template='{metadata_str}\\n\\n{content}', metadata_template='{key}: {value}', metadata_seperator='\\n'),\n",
       " Document(id_='8b5ceca5-6206-49b6-9180-d1d6459f4399', embedding=None, metadata={'page_label': '5', 'file_name': 'dashboard_How to Clear Cache and Storage (Android).pdf', 'file_path': '../data/dashboard_How to Clear Cache and Storage (Android).pdf', 'file_type': 'application/pdf', 'file_size': 518949, 'creation_date': '2024-01-29', 'last_modified_date': '2024-01-29', 'last_accessed_date': '2024-01-29'}, excluded_embed_metadata_keys=['file_name', 'file_type', 'file_size', 'creation_date', 'last_modified_date', 'last_accessed_date'], excluded_llm_metadata_keys=['file_name', 'file_type', 'file_size', 'creation_date', 'last_modified_date', 'last_accessed_date'], relationships={}, text='5 / 7STEP 4\\n ', start_char_idx=None, end_char_idx=None, text_template='{metadata_str}\\n\\n{content}', metadata_template='{key}: {value}', metadata_seperator='\\n'),\n",
       " Document(id_='7d6a3a14-c117-4814-aa2a-c3dae17b8883', embedding=None, metadata={'page_label': '6', 'file_name': 'dashboard_How to Clear Cache and Storage (Android).pdf', 'file_path': '../data/dashboard_How to Clear Cache and Storage (Android).pdf', 'file_type': 'application/pdf', 'file_size': 518949, 'creation_date': '2024-01-29', 'last_modified_date': '2024-01-29', 'last_accessed_date': '2024-01-29'}, excluded_embed_metadata_keys=['file_name', 'file_type', 'file_size', 'creation_date', 'last_modified_date', 'last_accessed_date'], excluded_llm_metadata_keys=['file_name', 'file_type', 'file_size', 'creation_date', 'last_modified_date', 'last_accessed_date'], relationships={}, text='6 / 7STEP 5\\n ', start_char_idx=None, end_char_idx=None, text_template='{metadata_str}\\n\\n{content}', metadata_template='{key}: {value}', metadata_seperator='\\n'),\n",
       " Document(id_='944008ac-05df-4347-8b18-8b4183b06199', embedding=None, metadata={'page_label': '7', 'file_name': 'dashboard_How to Clear Cache and Storage (Android).pdf', 'file_path': '../data/dashboard_How to Clear Cache and Storage (Android).pdf', 'file_type': 'application/pdf', 'file_size': 518949, 'creation_date': '2024-01-29', 'last_modified_date': '2024-01-29', 'last_accessed_date': '2024-01-29'}, excluded_embed_metadata_keys=['file_name', 'file_type', 'file_size', 'creation_date', 'last_modified_date', 'last_accessed_date'], excluded_llm_metadata_keys=['file_name', 'file_type', 'file_size', 'creation_date', 'last_modified_date', 'last_accessed_date'], relationships={}, text='7 / 7STEP 6\\n \\n ', start_char_idx=None, end_char_idx=None, text_template='{metadata_str}\\n\\n{content}', metadata_template='{key}: {value}', metadata_seperator='\\n'),\n",
       " Document(id_='874d48c1-306e-486a-94e3-9d33149bdabe', embedding=None, metadata={'page_label': '1', 'file_name': 'dashboard_Reset Your Password.pdf', 'file_path': '../data/dashboard_Reset Your Password.pdf', 'file_type': 'application/pdf', 'file_size': 565177, 'creation_date': '2024-01-29', 'last_modified_date': '2024-01-29', 'last_accessed_date': '2024-01-29'}, excluded_embed_metadata_keys=['file_name', 'file_type', 'file_size', 'creation_date', 'last_modified_date', 'last_accessed_date'], excluded_llm_metadata_keys=['file_name', 'file_type', 'file_size', 'creation_date', 'last_modified_date', 'last_accessed_date'], relationships={}, text='1 / 3\\nReset Y our Password\\nsupport.gospotcheck.com /hc/en-us/articles/21 1356308-Reset-Y our-Password\\nResetting your GoSpotCheck password is simple to do from the Sign In  page.\\n1. From an Internet browser, navigate to gospotcheck.com .\\n2. From the top menu bar, select Sign in .\\n3. Click Forgot your password?\\n  \\n4. Enter your email address, and\\nthen click Send reset\\ninstructions .\\n  \\nYou will see a message on the\\nscreen that states \"You will\\nreceive an email with\\ninstructions about how to reset\\nyour password in a few\\nminutes.\"', start_char_idx=None, end_char_idx=None, text_template='{metadata_str}\\n\\n{content}', metadata_template='{key}: {value}', metadata_seperator='\\n'),\n",
       " Document(id_='69ffd156-681e-4510-b82f-d5208f7188e8', embedding=None, metadata={'page_label': '2', 'file_name': 'dashboard_Reset Your Password.pdf', 'file_path': '../data/dashboard_Reset Your Password.pdf', 'file_type': 'application/pdf', 'file_size': 565177, 'creation_date': '2024-01-29', 'last_modified_date': '2024-01-29', 'last_accessed_date': '2024-01-29'}, excluded_embed_metadata_keys=['file_name', 'file_type', 'file_size', 'creation_date', 'last_modified_date', 'last_accessed_date'], excluded_llm_metadata_keys=['file_name', 'file_type', 'file_size', 'creation_date', 'last_modified_date', 'last_accessed_date'], relationships={}, text=\"2 / 3\\n5. From the email you receive from\\nGoSpotCheck Support, select\\nthe link to Change my\\npassword\\n \\n \\n6. Enter and confirm your new password, then click Change my password .\\n \\nYou will receive a confirmation that your password was changed successfully.\\nLooking to reset your password from one of our mobile apps? Click HERE .\\nIf you are logging in using SSO, you will not be able to reset your password through\\nGoSpotCheck or via GoSpotCheck Support. Because your access info is managed by your\\ncompany's Identity Provider, you will need to contact an internal company representative\\n(often, your IT department) to complete the password reset process.\\nstar\\nHave more questions? Submit a request\", start_char_idx=None, end_char_idx=None, text_template='{metadata_str}\\n\\n{content}', metadata_template='{key}: {value}', metadata_seperator='\\n'),\n",
       " Document(id_='fb7242c2-27be-44a0-9b83-6057d42e7eaf', embedding=None, metadata={'page_label': '3', 'file_name': 'dashboard_Reset Your Password.pdf', 'file_path': '../data/dashboard_Reset Your Password.pdf', 'file_type': 'application/pdf', 'file_size': 565177, 'creation_date': '2024-01-29', 'last_modified_date': '2024-01-29', 'last_accessed_date': '2024-01-29'}, excluded_embed_metadata_keys=['file_name', 'file_type', 'file_size', 'creation_date', 'last_modified_date', 'last_accessed_date'], excluded_llm_metadata_keys=['file_name', 'file_type', 'file_size', 'creation_date', 'last_modified_date', 'last_accessed_date'], relationships={}, text='3 / 3\\n \\n ', start_char_idx=None, end_char_idx=None, text_template='{metadata_str}\\n\\n{content}', metadata_template='{key}: {value}', metadata_seperator='\\n'),\n",
       " Document(id_='5ee4d94b-4e46-4511-8f7f-45b8e227f56f', embedding=None, metadata={'page_label': '1', 'file_name': 'jll-us-office-insight-q1-2023-chicagocbd.pdf', 'file_path': '../data/jll-us-office-insight-q1-2023-chicagocbd.pdf', 'file_type': 'application/pdf', 'file_size': 96868, 'creation_date': '2024-01-29', 'last_modified_date': '2024-01-29', 'last_accessed_date': '2024-01-29'}, excluded_embed_metadata_keys=['file_name', 'file_type', 'file_size', 'creation_date', 'last_modified_date', 'last_accessed_date'], excluded_llm_metadata_keys=['file_name', 'file_type', 'file_size', 'creation_date', 'last_modified_date', 'last_accessed_date'], relationships={}, text='© 2022 Jones Lang LaSalle IP, Inc. All rights reserved.Chicago CBD\\nOffice tenants of the Chicago CBD continue to be impacted by the current, hindered state of the macro-economy, especially those in the tech industry. Tech firms with large presences in Chicago saw moderate spikes in layoffs over the last three-months as tech tenants continue to search for cost savings amongst a dip in demand for their services.While absorption negatively impacted Chicago, closing the quarter at -448,159 s.f., the diversity of Chicago’s industries helped soften the impact. Other gateway markets with heavy concentrations in tech and banking realized significant losses with markets such as Boston, NYC, LA and San Francisco all realizing at least -1.1M s.f. of net absorption. Furthermore, Chicago continues to be a tale of two cities. CBD Class A & Trophy buildings realized their six consecutive quarter of positive absorption, predominantly from new development in the western half of the market. Leasing volume, on the other hand, realized its fourth consecutive drop, decreasing by 20% QoQ. Total volume has synonymously been decreasing since the Fed began hiking interest rates at the end of Q1 2022. New leasing activity (non-renewals) closed the quarter with a mixed-bag. On one hand nearly 70% of all new leases transacted in Q1 went to Class A or better offices, however, nearly half came at downsizes averaging -25%. The silver-lining came from Harrison Street Capital who agreed to anchor Fulton Market development 919 W Fulton Market St growing by 110,000 s.f.in the process.  Sublease availability continues to be problematic for offices across the nation. The rate at which sublease space was added to the Chicago office market in Q1 was reminiscent of the pandemic. A major difference, however, is that the city is seeing spikes in high quality office space hitting the sublease market. Tenants Salesforce and Meta both are reported to be unloading 240,000 s.f.of sublease space within the two trophy office towers they occupy. OutlookExpect the negative momentum to follow into the second quarter of the year as tenants continue to “wait out the economy” before making major real estate decisions. An additional headwind for Chicago is the lack of new development during a period in which demand has been limited to quality or brand-new office buildings. Currently, Chicago’s availability within its highest quality offices is 9%. Only one potential building is expected to break ground this year, yet a significant number of leases are expected to expire between 2024-2027, with numerous deep-pocketed tenants.•Chicago closed the first quarter of the year with nearly half a million square feet in negative absorption primarily fueled by rightsizing tenants and sublease space.•Nearly 900,000 s.f.of leases were signed this quarter, which is the lowest quarterly total since the first quarter of 2021.•Total sublease availability grew over 700,000 s.f.in the first quarter, reaching a new historic high of 7.8M s.f. as tenants continue to rightsize.FundamentalsForecastYTDnet absorption-448,159 s.f.▼Under construction934,500 s.f.▶Total vacancy20.6%▲Sublease vacancy3,354,151 s.f.▲Direct askingrent$45.90 p.s.f.▶Sublease asking rent$35.51 p.s.f.▼ConcessionsStable▶\\n-3-2-101234201820192020202120222023MillionsSupply and demand (s.f.)Net absorptionDeliveries\\n5%10%15%20%25%20082010201220142016201820202022Total vacancy (%)\\n$10$20$30$40$50\\n20092011201320152017201920212023Average asking rent ($ p.s.f.) DirectSublease\\nFor more information, contact:  Edgar Leon | Edgar.Leon@am.jll.com\\nOffice Insight  | Q1 2023Chicago closes Q1 negative as the fragile state of the economy continues to impact tenants ', start_char_idx=None, end_char_idx=None, text_template='{metadata_str}\\n\\n{content}', metadata_template='{key}: {value}', metadata_seperator='\\n'),\n",
       " Document(id_='6079078e-1465-40e9-9032-9c5c6164f997', embedding=None, metadata={'file_path': '../data/questions.csv', 'file_name': 'questions.csv', 'file_type': 'text/csv', 'file_size': 4782, 'creation_date': '2024-01-24', 'last_modified_date': '2024-01-24', 'last_accessed_date': '2024-01-29'}, excluded_embed_metadata_keys=['file_name', 'file_type', 'file_size', 'creation_date', 'last_modified_date', 'last_accessed_date'], excluded_llm_metadata_keys=['file_name', 'file_type', 'file_size', 'creation_date', 'last_modified_date', 'last_accessed_date'], relationships={}, text='What are the core values of Graphic packaging?, Graphic  Packaging’s  Core  Values  include  Respect—for  the  personal  dignity,  rights,  and  diversity  of  every  \\nEmployee, nan, nan, Anti-harassment and Anti discrimination policy (global) rev.march 2023 English.pdf, Paragraph\\nWhat is the scope of the Anti harassment and Anti discrimination Policy (Global)?, This Policy applies to all applicants, employees, contractors, interns, suppliers, customers, and visitors of all Graphic Packaging legal entities worldwide.  , nan, nan, Anti-harassment and Anti discrimination policy (global) rev.march 2023 English.pdf, nan\\nList down the prohibited harassments., racial or ethnic slurs, epithets, and any other offensive remarks; \\n• jokes, whether written, verbal, or electronic; \\n• threats, intimidation, and other menacing behavior; \\n• inappropriate verbal, graphic, or physical conduct; \\n• harassing messages or videos sent via text, instant messaging, or social media; and \\n• other harassing conduct based on one or more of the protected categories identified in this Policy. , nan, nan, Anti-harassment and Anti discrimination policy (global) rev.march 2023 English.pdf, nan\\nDoes Anti harassment Anti Discrimination policy prohibits consensual relationships?, This  Policy  does  not  prohibit  private,  consensual  romantic  relationships  between  employees., nan, nan, nan, nan\\nWhat is the alertline telephone number for Japan and Nigeria?, Japan 0800-700-9401Nigeria 0-708-060-1816, then 866-898-3750 (table), nan, nan, nan, Table\\nWhat should an employee avoid discussing about company according to the Antitrust policy?, Past, present or future prices \\n• Pricing policies \\n• Discounts \\n• Promotions \\n• Terms or conditions of sale \\n• Profit or profit margins \\n• Costs \\n• Limitations on production or downtime plans \\n• Inventory levels , nan, nan, Antitrust policy English Rev.october.pdf, List\\nList down the rules that GPI employees must follow to ensure compliance with applicable antitrust laws., Never agree with a competitor that either the employee, GPI, or the competitor will take certain actions or will \\nrefrain from taking certain actions, especially with regard to products, prices, customers, supplier or territories. \\n• Recognize that a customer is an independent competitive entity.  Always allow the customer to make its own \\nbusiness decisions, especially in the areas of resale prices, customers to whom it will sell, and the territories in \\nwhich it will sell. \\n• Compete  fairly.  Unreasonable  competitive  tactics  such  as  predatory  pricing,  exaggerated  advertising  and  \\nmalicious disparagement of your competitor’s products are not only illegal but are also not in alignment with \\nGPI’s Core Values. \\n• In those situations where GPI’s competitors are also its customers or suppliers, GPI employees must exercise \\nextreme care not to discuss GPI’s customers, territories, prices (other than the price that GPI will sell or purchase \\na particular product to or from the company), or strategies with those companies., nan, nan, Antitrust policy English Rev.october.pdf, List\\nWhat should I do when someone tries to discuss prohibited information?, If a competitor tries to discuss any of this sort of information with an employee, the employee should respond that the \\nemployee will not engage in those improper discussions and terminate the conversation.  Employees must always report \\na competitor’s attempt to engage in a conversation prohibited by this Policy using one of the reporting methods described \\nBelow., nan, nan, Antitrust policy English Rev.october.pdf, nan\\nHow to create a scale task?, 1. Select Add Component on an empty Mission builder canvas.This button is only available when adding the first task to a newMission or section. 2. Drag and drop Scale from the components panel onto the Mission builder canvas. This can be done on an empty canvas or at anystage of Mission building. \\n3. Click the ‘+’ sign above or below any existing task and choose Scale from the components list., nan, nan, dashboard_searchable_list_task.pdf, List\\nHow to create a searchable list task?, 1. Select Add Component on an empty Mission builder canvas.This button is only available when adding the first task to a newMission or section. 2. Drag and drop Searchable List from the components panel onto the Mission builder canvas. This can be done on an emptycanvas or at any stage of Mission building. \\n3. Click the ‘+’ sign above or below any existing task and choose Searchable List from the components list, nan, nan, dashboard_searchable_list_task.pdf, List\\nIssues where TeleEAP coaching can assist?, handling work stress\\n• improving relationships\\n• parenting\\n• nicotine cessation, nan, nan, Employee assistance program.pdf, list', start_char_idx=None, end_char_idx=None, text_template='{metadata_str}\\n\\n{content}', metadata_template='{key}: {value}', metadata_seperator='\\n')]"
      ]
     },
     "execution_count": 18,
     "metadata": {},
     "output_type": "execute_result"
    }
   ],
   "source": [
    "# create documents\n",
    "from llama_index import VectorStoreIndex, SimpleDirectoryReader, Document\n",
    "reader = SimpleDirectoryReader(input_dir=\"../data/\")\n",
    "docs = reader.load_data()\n",
    "docs"
   ]
  },
  {
   "cell_type": "code",
   "execution_count": 19,
   "metadata": {},
   "outputs": [],
   "source": [
    "document = Document(text=\"\\n\\n\".join([doc.text for doc in docs]))"
   ]
  },
  {
   "cell_type": "markdown",
   "metadata": {},
   "source": [
    "## Setup Vector Store"
   ]
  },
  {
   "cell_type": "code",
   "execution_count": 10,
   "metadata": {},
   "outputs": [],
   "source": [
    "# vector store connect\n",
    "es_store = ElasticsearchStore(\n",
    "    index_name=\"test-llamaidx\",\n",
    "    es_url=\"http://localhost:9200\",)"
   ]
  },
  {
   "cell_type": "markdown",
   "metadata": {},
   "source": [
    "## Sentence Window Retrieval"
   ]
  },
  {
   "cell_type": "markdown",
   "metadata": {},
   "source": [
    "https://docs.llamaindex.ai/en/stable/examples/node_postprocessor/MetadataReplacementDemo.html"
   ]
  },
  {
   "cell_type": "code",
   "execution_count": 11,
   "metadata": {},
   "outputs": [],
   "source": [
    "from llama_index import ServiceContext, VectorStoreIndex, StorageContext\n",
    "from llama_index.node_parser import SentenceWindowNodeParser\n",
    "from llama_index.indices.postprocessor import MetadataReplacementPostProcessor\n",
    "from llama_index.indices.postprocessor import SentenceTransformerRerank\n"
   ]
  },
  {
   "cell_type": "code",
   "execution_count": 12,
   "metadata": {},
   "outputs": [],
   "source": [
    "# build index of sentence windows from document. \n",
    "def build_sentence_window_index(\n",
    "    document, llm, vector_store, embed_model=\"local:BAAI/bge-small-en-v1.5\"\n",
    "):\n",
    "    # parse documents into sentence windows\n",
    "    node_parser = SentenceWindowNodeParser.from_defaults(\n",
    "        window_size=3,\n",
    "        window_metadata_key=\"window\",\n",
    "        original_text_metadata_key=\"original_text\",\n",
    "    )\n",
    "\n",
    "    # manage services needed to build the index\n",
    "    sentence_context = ServiceContext.from_defaults(\n",
    "        llm=llm,\n",
    "        embed_model=embed_model,\n",
    "        node_parser=node_parser\n",
    "    )\n",
    "    # manage the storage of index\n",
    "    storage_context = StorageContext.from_defaults(vector_store=vector_store)\n",
    "    # create index using service context and storage context\n",
    "    sentence_index = VectorStoreIndex.from_documents(\n",
    "        [document], service_context=sentence_context, storage_context=storage_context\n",
    "    )\n",
    "\n",
    "    return sentence_index\n",
    "\n"
   ]
  },
  {
   "cell_type": "code",
   "execution_count": 13,
   "metadata": {},
   "outputs": [],
   "source": [
    "# Create a query engine from given sentence window index.\n",
    "def get_sentence_window_query_engine(\n",
    "    sentence_index,\n",
    "    similarity_top_k=6, # num of similar results to return \n",
    "    rerank_top_n=2, # num of top results to rerank\n",
    "):\n",
    "\n",
    "    postproc = MetadataReplacementPostProcessor(target_metadata_key=\"window\")\n",
    "    # reranks top results using sentence transformers\n",
    "    rerank = SentenceTransformerRerank(\n",
    "        top_n=rerank_top_n, model=\"BAAI/bge-reranker-base\"\n",
    "    )\n",
    "    \n",
    "    sentence_window_engine = sentence_index.as_query_engine(\n",
    "        similarity_top_k=similarity_top_k, node_postprocessors=[postproc, rerank]\n",
    "    )\n",
    "    return sentence_window_engine"
   ]
  },
  {
   "cell_type": "markdown",
   "metadata": {},
   "source": [
    "> The reranking process involves using the sentence transformer model to compute new similarity scores for the top rerank_top_n results and then sorting these results based on the new scores. This can help improve the relevance of the results by taking into account more complex semantic similarities that might not be captured by the initial ranking.\n",
    "\n"
   ]
  },
  {
   "cell_type": "code",
   "execution_count": 40,
   "metadata": {},
   "outputs": [],
   "source": [
    "sentence_index = build_sentence_window_index(\n",
    "    document,\n",
    "    llm,\n",
    "    embed_model=\"local:BAAI/bge-small-en-v1.5\",\n",
    "    vector_store=es_store\n",
    ")\n",
    "\n",
    "query_engine = get_sentence_window_query_engine(sentence_index=sentence_index, rerank_top_n=5)\n"
   ]
  },
  {
   "cell_type": "markdown",
   "metadata": {},
   "source": [
    "### Prompt Templates"
   ]
  },
  {
   "cell_type": "code",
   "execution_count": 72,
   "metadata": {},
   "outputs": [
    {
     "name": "stdout",
     "output_type": "stream",
     "text": [
      "Prompt Templates:\n",
      "\n",
      "####################\n",
      "Context information is below.\n",
      "---------------------\n",
      "{context_str}\n",
      "---------------------\n",
      "Given the context information and not prior knowledge, answer the query.\n",
      "Query: {query_str}\n",
      "Answer: \n",
      "####################\n",
      "The original query is as follows: {query_str}\n",
      "We have provided an existing answer: {existing_answer}\n",
      "We have the opportunity to refine the existing answer (only if needed) with some more context below.\n",
      "------------\n",
      "{context_msg}\n",
      "------------\n",
      "Given the new context, refine the original answer to better answer the query. If the context isn't useful, return the original answer.\n",
      "Refined Answer: \n"
     ]
    }
   ],
   "source": [
    "# prompt templates\n",
    "print(f\"Prompt Templates:\\n\")\n",
    "print(f\"#\"*20)\n",
    "print(query_engine.get_prompts()[\"response_synthesizer:text_qa_template\"].default_template.template)\n",
    "print(f\"#\"*20)\n",
    "print(query_engine.get_prompts()[\"response_synthesizer:refine_template\"].default_template.template)"
   ]
  },
  {
   "cell_type": "markdown",
   "metadata": {},
   "source": [
    "### Response"
   ]
  },
  {
   "cell_type": "code",
   "execution_count": 75,
   "metadata": {},
   "outputs": [
    {
     "name": "stdout",
     "output_type": "stream",
     "text": [
      "If your company has not purchased Role-based Access as an addition to your GoSpotCheck Account, you will not see the option for the Manager role in your account. To find out more about setting up roles and access levels, please contact your designated GoSpotCheck Customer Success Manager.\n"
     ]
    }
   ],
   "source": [
    "resp = query_engine.query(\n",
    "    \"There is no manager option in gospot account\"\n",
    ")\n",
    "print(resp)\n"
   ]
  },
  {
   "cell_type": "code",
   "execution_count": 79,
   "metadata": {},
   "outputs": [
    {
     "name": "stdout",
     "output_type": "stream",
     "text": [
      "Roles\n",
      "Roles  allow you to determine the level of access you want each User to have.\n",
      " USER  - Access to the GoSpotCheck Mobile Application/myGSC only (default)\n",
      "COMPANY ADMIN  - Full View and Edit access to both the GoSpotCheck Dashboard\n",
      "& the Mobile Application\n",
      "REVIEWER - FULL access to the GoSpotCheck Mobile Application & SCOPED,\n",
      "CUSTOMIZED access to view/edit within the GoSpotCheck Dashboard.  For more\n",
      "information on Role Based Access, click HERE . \n",
      " A word on the Manager Role:  You will only see the role of Manager as a potential option\n",
      "if your company has purchased Role-based Access as an addition to your GoSpotCheck\n",
      "Account.  To find out more about setting up Roles, please contact your designated GSC\n",
      "Customer Success Manager.\n",
      " When finished inputting all necessary information, click the blue \" Create User \" button in\n",
      "the bottom righthand corner of the page. \n",
      " \n",
      "------------------------------\n",
      "A word on the Manager Role:  You will only see the role of Manager as a potential option\n",
      "if your company has purchased Role-based Access as an addition to your GoSpotCheck\n",
      "Account. \n"
     ]
    }
   ],
   "source": [
    "print(resp.source_nodes[0].node.metadata[\"window\"])\n",
    "print(\"-\"*30)\n",
    "print(resp.source_nodes[0].node.metadata[\"original_text\"])\n"
   ]
  },
  {
   "cell_type": "markdown",
   "metadata": {},
   "source": [
    "### Source documents"
   ]
  },
  {
   "cell_type": "code",
   "execution_count": 86,
   "metadata": {},
   "outputs": [
    {
     "name": "stdout",
     "output_type": "stream",
     "text": [
      "Roles\n",
      "Roles  allow you to determine the level of access you want each User to have.\n",
      " USER  - Access to the GoSpotCheck Mobile Application/myGSC only (default)\n",
      "COMPANY ADMIN  - Full View and Edit access to both the GoSpotCheck Dashboard\n",
      "& the Mobile Application\n",
      "REVIEWER - FULL access to the GoSpotCheck Mobile Application & SCOPED,\n",
      "CUSTOMIZED access to view/edit within the GoSpotCheck Dashboard.  For more\n",
      "information on Role Based Access, click HERE . \n",
      " A word on the Manager Role:  You will only see the role of Manager as a potential option\n",
      "if your company has purchased Role-based Access as an addition to your GoSpotCheck\n",
      "Account.  To find out more about setting up Roles, please contact your designated GSC\n",
      "Customer Success Manager.\n",
      " When finished inputting all necessary information, click the blue \" Create User \" button in\n",
      "the bottom righthand corner of the page. \n",
      " \n",
      "--------------------\n",
      "The Company  is further committed to prohibiting retaliation against qualified employees who request a \n",
      "reasonable accommodation for any known physical or mental disability and employees who request a reasonable \n",
      "accommodation of their religious beliefs and observances.   \n",
      " Anyone who believes that they are being retaliated against, or who observes retaliation by or against another \n",
      "person, should immediately contact Human Resources or the Graphic Packaging Business Conduct Alertline.  \n",
      " Graphic Packaging,  at its sole discretio n, reserves the right to amend or modify this Policy at any time and for \n",
      "any reason.  \n",
      "\n",
      "\n",
      "\n",
      " 1 / 4Adding a New User – Help Center\n",
      "support.gospotcheck.com /hc/en-us/articles/360003612414-Adding-a-New-User\n",
      "Adding a New User\n",
      "You’re all logged in to the GoSpotCheck Dashboard and ready to start adding your Users to\n",
      "your account (unless you want to take on the task of completing all of the Missions yourself ,\n",
      "in which case, Godspeed!).\n",
      " Depending on the number of Users you need to add at a single time, you can add\n",
      "People either:\n",
      "1.  Individually  (recommended when adding small group of Users)\n",
      "2. \n",
      "--------------------\n",
      "Individually  (recommended when adding small group of Users)\n",
      "2.  In bulk, using the CSV upload tool .\n",
      " Please note, only admins have access to add new users.  Any questions, please reach out to\n",
      "Support at support@gospotcheck.com.\n",
      " Adding Users Individually\n",
      "1.  Navigate to the “People” tab in your Dashboard, and then click the blue “ + New User ”\n",
      "button in the upper righthand corner.\n",
      "\n",
      "--------------------\n"
     ]
    }
   ],
   "source": [
    "for source_node in resp.source_nodes:\n",
    "    print(source_node.node.text)\n",
    "    print(\"-\"*20)"
   ]
  }
 ],
 "metadata": {
  "kernelspec": {
   "display_name": "venv",
   "language": "python",
   "name": "python3"
  },
  "language_info": {
   "codemirror_mode": {
    "name": "ipython",
    "version": 3
   },
   "file_extension": ".py",
   "mimetype": "text/x-python",
   "name": "python",
   "nbconvert_exporter": "python",
   "pygments_lexer": "ipython3",
   "version": "3.8.10"
  }
 },
 "nbformat": 4,
 "nbformat_minor": 2
}
